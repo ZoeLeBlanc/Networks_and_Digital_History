{
 "cells": [
  {
   "cell_type": "code",
   "execution_count": 136,
   "metadata": {},
   "outputs": [],
   "source": [
    "#Import the python package pandas for reading in data\n",
    "import pandas as pd"
   ]
  },
  {
   "cell_type": "code",
   "execution_count": 137,
   "metadata": {},
   "outputs": [],
   "source": [
    "#Read in our workshop data with the read_csv\n",
    "data = pd.read_csv('workshop_survey_data.csv')"
   ]
  },
  {
   "cell_type": "code",
   "execution_count": 138,
   "metadata": {},
   "outputs": [
    {
     "name": "stdout",
     "output_type": "stream",
     "text": [
      "Index(['Timestamp', 'first_name', 'twitter', 'department', 'university',\n",
      "       'place_uni', 'year', 'year_uni', 'today', 'research', 'conference',\n",
      "       'experience_in_DH', 'DH_methods', 'rationale', 'DH_means',\n",
      "       'hogwarts_house', 'game_of_thrones', 'keanu'],\n",
      "      dtype='object')\n"
     ]
    }
   ],
   "source": [
    "#Show our column names so that we can check that we have everything\n",
    "print(data.columns)"
   ]
  },
  {
   "cell_type": "code",
   "execution_count": 139,
   "metadata": {},
   "outputs": [],
   "source": [
    "#Replace any empty values with a set of empty string\n",
    "data.fillna('', inplace=True)"
   ]
  },
  {
   "cell_type": "code",
   "execution_count": 140,
   "metadata": {},
   "outputs": [
    {
     "name": "stdout",
     "output_type": "stream",
     "text": [
      "            Timestamp    first_name          twitter  \\\n",
      "0  5/24/2018 11:39:18           Zoe     @Zoe_LeBlanc   \n",
      "1  5/24/2018 11:48:35         Keanu     @keanuthings   \n",
      "2  5/28/2018 18:46:25        Golnar     @GolnarNemat   \n",
      "3   5/29/2018 8:39:27          Paul                    \n",
      "4  5/29/2018 11:20:15       Richard                    \n",
      "5  5/29/2018 12:15:19       Taylor   @taylormariemal   \n",
      "6  5/29/2018 14:56:24          Jack                    \n",
      "7  5/29/2018 18:34:10         Lily        @lilyibrew   \n",
      "8  5/29/2018 18:42:59  Sandra Kruse   @Sandi_Peaches   \n",
      "9  5/29/2018 20:23:10       Richard       @RLHeppner   \n",
      "\n",
      "                               department                 university  \\\n",
      "0                  History, Scholars' Lab     University of Virginia   \n",
      "1                  Comparative Literature                       UCLA   \n",
      "2         History of Art and Architecture  University of Pittsburgh    \n",
      "3                                 English                        CMU   \n",
      "4                                 English                        CMU   \n",
      "5  English, English as a Second Language        Duquesne University    \n",
      "6                                 English                        CMU   \n",
      "7         History of Art and Architecture  University of Pittsburgh    \n",
      "8                                 English                        CMU   \n",
      "9                                     Law       Duquesne University    \n",
      "\n",
      "         place_uni                                        year    year_uni  \\\n",
      "0    Nashville, TN                                          6+  2012-01-01   \n",
      "1  Los Angeles, CA                                          6+  2012-01-01   \n",
      "2   Pittsburgh, PA                                           3  2015-01-01   \n",
      "3   Pittsburgh, PA                         interested observer               \n",
      "4   Pittsburgh, PA                                           1  2017-01-01   \n",
      "5   Pittsburgh, PA                                           2  2016-01-01   \n",
      "6   Pittsburgh, PA                                           1  2017-01-01   \n",
      "7   Pittsburgh, PA                                           3  2015-01-01   \n",
      "8   Pittsburgh, PA  Recent Masters Graduate [one year program]               \n",
      "9   Pittsburgh, PA                                   Professor               \n",
      "\n",
      "        today                                           research  \\\n",
      "0  2018-06-01  International History, Media History, Text Min...   \n",
      "1  2018-06-02  Dogs, Action Movies, Cars Exploding, Digital H...   \n",
      "2  2018-06-03  Iranian contemporary and modern art, contempor...   \n",
      "3  2018-06-04  IA, digital history, interactive fiction, inst...   \n",
      "4  2018-06-05  Political Discourse, Public Rhetorics, Digital...   \n",
      "5  2018-06-06  Modernist Poetry, Digital Humanities, Sound St...   \n",
      "6  2018-06-07  English literature, literary theory, early mod...   \n",
      "7  2018-06-08  modern and contemporary photography, aerial ph...   \n",
      "8  2018-06-09  Late 19th and Early 20th Century American Lite...   \n",
      "9  2018-06-10  Law, Law and Literature, Law and Rhetoric, Mod...   \n",
      "\n",
      "       conference                                   experience_in_DH  \\\n",
      "0  AHA, SHAFR, DH                      I am teaching this workshop 🙃   \n",
      "1             MLA  Never heard of it. (This will be a fun week fo...   \n",
      "2                         I've taken a course or attended a workshop   \n",
      "3                  I've done some readings and tutorials. Maybe I...   \n",
      "4       RSA, CCCC  I've done some readings and tutorials. Maybe I...   \n",
      "5            MLA          I've taken a course or attended a workshop   \n",
      "6             MLA             Heard of it but don't really know much   \n",
      "7             CAA         I've taken a course or attended a workshop   \n",
      "8             MLA  I've done some readings and tutorials. Maybe I...   \n",
      "9            AALS  I've done some readings and tutorials. Maybe I...   \n",
      "\n",
      "                                          DH_methods  \\\n",
      "0  Networks, Text Mining, Mapping, Data Visualiza...   \n",
      "1  Pedagogy, Machine Learning/AI/buzzword tech stuff   \n",
      "2  Networks, Mapping, Data Visualization, Databas...   \n",
      "3  Networks, Text Mining, Mapping, Data Visualiza...   \n",
      "4  Networks, Text Mining, Mapping, Data Visualiza...   \n",
      "5  Data Visualization, Databases, Blogging, Pedag...   \n",
      "6  Networks, Text Mining, Data Visualization, Blo...   \n",
      "7                Networks, Mapping, Website Creation   \n",
      "8  Data Visualization, Databases, Blogging, Pedagogy   \n",
      "9  Networks, Text Mining, Data Visualization, Blo...   \n",
      "\n",
      "                                           rationale  \\\n",
      "0  Hope to learn about everyone's research intere...   \n",
      "1  I want to learn about the Matrix. Also social ...   \n",
      "2  I am developing a DH project about modern art ...   \n",
      "3  I know some things, but wonder if I lack a goo...   \n",
      "4  To learn methods of DH project design + gain f...   \n",
      "5  In hopes of understanding DH a bit better for ...   \n",
      "6  Primer on variety of DH tools to inform my fut...   \n",
      "7                                                      \n",
      "8  I'm unsure what role DH will/should/could play...   \n",
      "9                                                      \n",
      "\n",
      "                                            DH_means  \\\n",
      "0  I've been really excited by digital history fo...   \n",
      "1  Currently nothing, but who knows about the fut...   \n",
      "2  In addition to make archival data available wi...   \n",
      "3  How we have used digital means to communicate,...   \n",
      "4  I would take \"digital history\" (broadly) as th...   \n",
      "5  The ability to store a large sum of informatio...   \n",
      "6  Network analysis, Data visualization, stylomet...   \n",
      "7                                                      \n",
      "8  I'm only vaguely familiar with the term, but, ...   \n",
      "9  Beats me. But I'm interested in learning about...   \n",
      "\n",
      "                                      hogwarts_house  \\\n",
      "0                                          Slytherin   \n",
      "1                                         Hufflepuff   \n",
      "2                                          Ravenclaw   \n",
      "3                                      Kitchen staff   \n",
      "4                    I don't care about Harry Potter   \n",
      "5                                          Ravenclaw   \n",
      "6                                          Slytherin   \n",
      "7                                          Slytherin   \n",
      "8  I'm sorted Ravenclaw but friends claim I shoul...   \n",
      "9                                          Ravenclaw   \n",
      "\n",
      "                                     game_of_thrones  \\\n",
      "0                                          Targaryen   \n",
      "1                                            Red God   \n",
      "2                                              Dorne   \n",
      "3  (One of my tests for epic fantasy is, \"do I wa...   \n",
      "4                                            Red God   \n",
      "5                                                Meh   \n",
      "6                                            Red God   \n",
      "7                                          Targaryen   \n",
      "8                                                Meh   \n",
      "9                                            Greyjoy   \n",
      "\n",
      "                                               keanu  \n",
      "0                             Much Ado About Nothing  \n",
      "1                             Who is Keanu Reeves???  \n",
      "2                                   He is overrated   \n",
      "3                             Much Ado About Nothing  \n",
      "4                                              Speed  \n",
      "5                                      Matrix Series  \n",
      "6                                  Bill & Ted Series  \n",
      "7                                   Johnny Mnemonic   \n",
      "8  My excuse for not having an answer is that I'm...  \n",
      "9                                              Speed  \n"
     ]
    }
   ],
   "source": [
    "#Show our data\n",
    "print(data)"
   ]
  },
  {
   "cell_type": "code",
   "execution_count": 141,
   "metadata": {},
   "outputs": [],
   "source": [
    "#Use the splitDataFrameList Method to split up any answers that have multiple values (eg. DH methods or research interests)\n",
    "def splitDataFrameList(df,target_column,separator):\n",
    "    ''' df = dataframe to split,\n",
    "    target_column = the column containing the values to split\n",
    "    separator = the symbol used to perform the split\n",
    "    returns: a dataframe with each entry for the target column separated, with each element moved into a new row. \n",
    "    The values in the other columns are duplicated across the newly divided rows.\n",
    "    '''\n",
    "    def splitListToRows(row,row_accumulator,target_column,separator):\n",
    "        split_row = row[target_column].split(separator)\n",
    "        for s in split_row:\n",
    "            new_row = row.to_dict()\n",
    "            new_row[target_column] = s\n",
    "            row_accumulator.append(new_row)\n",
    "    new_rows = []\n",
    "    df.apply(splitListToRows,axis=1,args = (new_rows,target_column,separator))\n",
    "    new_df = pd.DataFrame(new_rows)\n",
    "    return new_df\n",
    "\n",
    "# Call the function here, passing in our data and the column name we want to split the values for.\n",
    "# Try changing the column names\n",
    "first_split_data = splitDataFrameList(data, 'DH_methods', ',')\n",
    "second_split_data = splitDataFrameList(first_split_data, 'university', ',')"
   ]
  },
  {
   "cell_type": "code",
   "execution_count": 142,
   "metadata": {},
   "outputs": [],
   "source": [
    "# Put our source and target columns to lower case so that they are read as same items\n",
    "second_split_data['DH_methods'] = second_split_data['DH_methods'].str.lower()\n",
    "second_split_data['university'] = second_split_data['university'].str.lower()"
   ]
  },
  {
   "cell_type": "code",
   "execution_count": 143,
   "metadata": {},
   "outputs": [],
   "source": [
    "# Select columns for network navigator\n",
    "network_navigator_data = second_split_data[['DH_methods', 'university']]\n",
    "# Create a csv file with our data\n",
    "network_navigator_data.to_csv('navigator.csv', index=False)"
   ]
  }
 ],
 "metadata": {
  "kernelspec": {
   "display_name": "Python 3",
   "language": "python",
   "name": "python3"
  },
  "language_info": {
   "codemirror_mode": {
    "name": "ipython",
    "version": 3
   },
   "file_extension": ".py",
   "mimetype": "text/x-python",
   "name": "python",
   "nbconvert_exporter": "python",
   "pygments_lexer": "ipython3",
   "version": "3.6.3"
  }
 },
 "nbformat": 4,
 "nbformat_minor": 2
}
